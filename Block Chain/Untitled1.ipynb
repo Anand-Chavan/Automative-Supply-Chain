{
 "cells": [
  {
   "cell_type": "code",
   "execution_count": 6,
   "metadata": {},
   "outputs": [
    {
     "data": {
      "text/plain": [
       "<__main__.Block at 0x7f5a37b2e358>"
      ]
     },
     "execution_count": 6,
     "metadata": {},
     "output_type": "execute_result"
    }
   ],
   "source": [
    "import datetime\n",
    "import hashlib\n",
    "import time\n",
    "from uuid import uuid4  \n",
    "# from flask import Flask, jsonify\n",
    "\n",
    "class Block(object):  \n",
    "      \n",
    "    def __init__(self, data,index, proof, previous_hash):#, transactions):  \n",
    "        self.index = index  \n",
    "        self.proof = proof  \n",
    "        self.previous_hash = previous_hash \n",
    "        self.data = data\n",
    "        # self.transactions = transactions  \n",
    "        self.timestamp = time.time()  \n",
    "  \n",
    "    @property  \n",
    "    def get_block_hash(self):  \n",
    "        block_string = \"{}{}{}{}\".format(self.index, self.proof, self.previous_hash, self.timestamp)  #, self.transactions,\n",
    "        return hashlib.sha256(block_string.encode()).hexdigest()\n",
    "\n",
    "\n",
    "class BlockChain(object):  \n",
    "      \n",
    "    def __init__(self):  \n",
    "        self.chain = []  \n",
    "        self.current_node_transactions = []  \n",
    "        self.create_genesis_block()  \n",
    "\n",
    "    def create_genesis_block(self):  \n",
    "    \tself.create_new_block(data = 'anand' ,proof=0, previous_hash=0)\n",
    "\n",
    "    def create_new_block(self,data, proof, previous_hash):  \n",
    "\t    block = Block( \n",
    "            data = data,\n",
    "\t        index=len(self.chain),  \n",
    "\t        proof=proof,  \n",
    "\t        previous_hash=previous_hash,  \n",
    "\t    )  \n",
    "\t  \n",
    "\t    self.chain.append(block)  \n",
    "\t    return block\n",
    "blockchain=BlockChain()\n",
    "blockchain.create_new_block(2,1,2)"
   ]
  },
  {
   "cell_type": "code",
   "execution_count": null,
   "metadata": {},
   "outputs": [],
   "source": []
  }
 ],
 "metadata": {
  "kernelspec": {
   "display_name": "Python 3",
   "language": "python",
   "name": "python3"
  },
  "language_info": {
   "codemirror_mode": {
    "name": "ipython",
    "version": 3
   },
   "file_extension": ".py",
   "mimetype": "text/x-python",
   "name": "python",
   "nbconvert_exporter": "python",
   "pygments_lexer": "ipython3",
   "version": "3.5.2"
  }
 },
 "nbformat": 4,
 "nbformat_minor": 4
}
