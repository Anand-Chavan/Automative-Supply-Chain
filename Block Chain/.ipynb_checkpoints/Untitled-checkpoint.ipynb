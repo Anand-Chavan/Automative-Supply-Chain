{
 "cells": [
  {
   "cell_type": "code",
   "execution_count": 73,
   "metadata": {},
   "outputs": [],
   "source": [
    "import tkinter as tk \n",
    "from PIL import ImageTk, Image\n",
    "import hashlib\n",
    "previous_hash='000000000000000000000000000000000'\n",
    "i=4\n",
    "def create_block(event):\n",
    "    file = askopenfile(mode ='r')#, filetypes =[('Python Files', '*.py')]) \n",
    "    h = hashlib.sha1()\n",
    "    global previous_hash\n",
    "    global i\n",
    "    if file is not None: \n",
    "        content = file.read()\n",
    "        content=content.encode('utf-8').strip()\n",
    "        h.update(content)\n",
    "    generated_hash='hash = '+ h.hexdigest()+'\\n'+'previous hash ='+previous_hash\n",
    "    button2 = tk.Button(r, text=generated_hash,height=4,width=50,bg='skyblue')\n",
    "#     if(i<13):\n",
    "    button2.grid(row=i,column = 2,padx=5,pady = 5)\n",
    "    i=i+1\n",
    "#     button1.place(relx = 0.5, rely = 0.8, anchor = CENTER)\n",
    "#     button2.pack()#padx=40,pady=12,side=tk.LEFT\n",
    "    previous_hash=\"\"\n",
    "    previous_hash = h.hexdigest()\n",
    "    \n",
    "r = tk.Tk() \n",
    "r.title('Creating Block')\n",
    "r.geometry('1200x1100')\n",
    "r.configure(background='white')\n",
    "button1 = tk.Button(r, text='Create Block',height=10,width=30,bg='skyblue')\n",
    "# button1.grid(row=4,column = 0,padx=5,pady = 5)\n",
    "button1.bind('<Button-1>', create_block)\n",
    "button1.place(relx = 0.8, rely = 0.4, anchor = CENTER)\n",
    "# button1.pack()R\n",
    "r.mainloop()"
   ]
  },
  {
   "cell_type": "code",
   "execution_count": null,
   "metadata": {},
   "outputs": [],
   "source": []
  },
  {
   "cell_type": "code",
   "execution_count": 63,
   "metadata": {},
   "outputs": [],
   "source": []
  },
  {
   "cell_type": "code",
   "execution_count": null,
   "metadata": {},
   "outputs": [],
   "source": []
  }
 ],
 "metadata": {
  "kernelspec": {
   "display_name": "Python 3",
   "language": "python",
   "name": "python3"
  },
  "language_info": {
   "codemirror_mode": {
    "name": "ipython",
    "version": 3
   },
   "file_extension": ".py",
   "mimetype": "text/x-python",
   "name": "python",
   "nbconvert_exporter": "python",
   "pygments_lexer": "ipython3",
   "version": "3.5.2"
  }
 },
 "nbformat": 4,
 "nbformat_minor": 4
}
